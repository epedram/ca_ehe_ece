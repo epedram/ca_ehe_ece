{
 "cells": [
  {
   "cell_type": "markdown",
   "id": "229056e4",
   "metadata": {},
   "source": [
    "### Data climatic stations and Gridmet"
   ]
  },
  {
   "cell_type": "code",
   "execution_count": null,
   "id": "15a31033",
   "metadata": {},
   "outputs": [],
   "source": [
    "#Load libraries\n",
    "import pandas as pd\n",
    "import geopandas as gpd\n",
    "import rasterio\n",
    "import xarray\n",
    "from rasterstats import point_query\n",
    "import os\n",
    "# Read the CSV file with the list of locations\n",
    "locations_df = pd.read_csv(r'~\\noaa_isd_stations_contiguous_us.csv')\n",
    "locations_df"
   ]
  },
  {
   "cell_type": "code",
   "execution_count": null,
   "id": "5bc5865a",
   "metadata": {},
   "outputs": [],
   "source": [
    "# Load the raster file for minimum temp\n",
    "ds = xarray.open_mfdataset(r'~\\tmmn_*.nc')\n",
    "ds = ds.sel( day=slice('2008-01-01', '2022-12-31'))\n",
    "ds"
   ]
  },
  {
   "cell_type": "code",
   "execution_count": null,
   "id": "d75781e7",
   "metadata": {},
   "outputs": [],
   "source": [
    "# Create an empty DataFrame to store the combined temperature data\n",
    "combined_temperature_data = pd.DataFrame()\n",
    "\n",
    "# Loop through locations and extract temperature values\n",
    "for index, row in locations_df.iterrows():\n",
    "    us_lat = row['lat']\n",
    "    us_lon = row['lon']\n",
    "    us_code = row['station_id']\n",
    "    \n",
    "    # Extract temperature data for the current location\n",
    "    dd = ds.sel(lat=us_lat, lon=us_lon, method=\"nearest\").to_dataframe()\n",
    "    x = dd.groupby('day').mean()\n",
    "    \n",
    "    # Add the location ID to the temperature data\n",
    "    x['station_id'] = us_code\n",
    "    \n",
    "    # Append the temperature data for the current location to the combined DataFrame\n",
    "    combined_temperature_data = combined_temperature_data.append(x)\n",
    "\n",
    "# Save the combined temperature data to a single CSV file\n",
    "output_file = r\"~\\combined_temperature_data.csv\"\n",
    "combined_temperature_data.to_csv(output_file, index=True)"
   ]
  },
  {
   "cell_type": "code",
   "execution_count": null,
   "id": "87a4292a",
   "metadata": {},
   "outputs": [],
   "source": [
    "## MAX TEMPERATURE\n",
    "ds_max = xarray.open_mfdataset(r'~\\tmmx_*.nc')\n",
    "ds_max = ds_max.sel( day=slice('2008-01-01', '2022-12-31'))\n",
    "ds_max"
   ]
  },
  {
   "cell_type": "code",
   "execution_count": null,
   "id": "19caa6a1",
   "metadata": {},
   "outputs": [],
   "source": [
    "# Create an empty DataFrame to store the combined temperature data\n",
    "combined_max_temperature_data = pd.DataFrame()\n",
    "\n",
    "# Loop through locations and extract temperature values\n",
    "for index, row in locations_df.iterrows():\n",
    "    us_lat = row['lat']\n",
    "    us_lon = row['lon']\n",
    "    us_code = row['station_id']\n",
    "    \n",
    "    # Extract temperature data for the current location\n",
    "    dd = ds_max.sel(lat=us_lat, lon=us_lon, method=\"nearest\").to_dataframe()\n",
    "    x = dd.groupby('day').mean()\n",
    "    \n",
    "    # Add the location ID to the temperature data\n",
    "    x['station_id'] = us_code\n",
    "    \n",
    "    # Append the temperature data for the current location to the combined DataFrame\n",
    "    combined_max_temperature_data = combined_max_temperature_data.append(x)\n",
    "\n",
    "# Save the combined temperature data to a single CSV file\n",
    "output_file = r\"~\\combined_max_temperature_data.csv\"\n",
    "combined_max_temperature_data.to_csv(output_file, index=True)"
   ]
  },
  {
   "cell_type": "code",
   "execution_count": null,
   "id": "83a7d297",
   "metadata": {},
   "outputs": [],
   "source": [
    "# Relative humidity maximum \n",
    "ds_rmax = xarray.open_mfdataset(r'~\\rmax_*.nc')\n",
    "ds_rmax = ds_rmax.sel( day=slice('2008-01-01', '2022-12-31'))\n",
    "ds_rmax"
   ]
  },
  {
   "cell_type": "code",
   "execution_count": null,
   "id": "de616379",
   "metadata": {},
   "outputs": [],
   "source": [
    "# Create an empty DataFrame to store the combined humidity data\n",
    "combined_relative_humidity_data = pd.DataFrame()\n",
    "\n",
    "# Loop through locations and extract temperature values\n",
    "for index, row in locations_df.iterrows():\n",
    "    us_lat = row['lat']\n",
    "    us_lon = row['lon']\n",
    "    us_code = row['station_id']\n",
    "    \n",
    "    # Extract humidity data for the current location\n",
    "    dd = ds_rmax.sel(lat=us_lat, lon=us_lon, method=\"nearest\").to_dataframe()\n",
    "    x = dd.groupby('day').mean()\n",
    "    \n",
    "    # Add the location ID to the humidity data\n",
    "    x['station_id'] = us_code\n",
    "    \n",
    "    # Append the humidity data for the current location to the combined DataFrame\n",
    "    combined_relative_humidity_data = combined_relative_humidity_data.append(x)\n",
    "\n",
    "# Save the combined humidity data to a single CSV file\n",
    "output_file = r\"~\\combined_relative_humidity_data.csv\"\n",
    "combined_relative_humidity_data.to_csv(output_file, index=True)"
   ]
  },
  {
   "cell_type": "code",
   "execution_count": null,
   "id": "b2ef3b3f",
   "metadata": {},
   "outputs": [],
   "source": [
    "# Minimum relative humidity\n",
    "ds_rmin = xarray.open_mfdataset(r'~\\rmin_*.nc')\n",
    "ds_rmin = ds_rmin.sel( day=slice('2008-01-01', '2022-12-31'))\n",
    "ds_rmin"
   ]
  },
  {
   "cell_type": "code",
   "execution_count": null,
   "id": "b4580eae",
   "metadata": {},
   "outputs": [],
   "source": [
    "# Create an empty DataFrame to store the combined humidity data\n",
    "combined_relative_min_humidity_data = pd.DataFrame()\n",
    "\n",
    "# Loop through locations and extract humidity values\n",
    "for index, row in locations_df.iterrows():\n",
    "    us_lat = row['lat']\n",
    "    us_lon = row['lon']\n",
    "    us_code = row['station_id']\n",
    "    \n",
    "    # Extract humidity data for the current location\n",
    "    dd = ds_rmin.sel(lat=us_lat, lon=us_lon, method=\"nearest\").to_dataframe()\n",
    "    x = dd.groupby('day').mean()\n",
    "    \n",
    "    # Add the location ID to the humidity data\n",
    "    x['station_id'] = us_code\n",
    "    \n",
    "    # Append the humidity data for the current location to the combined DataFrame\n",
    "    combined_relative_min_humidity_data = combined_relative_min_humidity_data.append(x)\n",
    "\n",
    "# Save the combined humidity data to a single CSV file\n",
    "output_file = r\"~\\combined_relative_min_humidity_data.csv\"\n",
    "combined_relative_min_humidity_data.to_csv(output_file, index=True)"
   ]
  },
  {
   "cell_type": "code",
   "execution_count": null,
   "id": "adca602f",
   "metadata": {},
   "outputs": [],
   "source": [
    "## Vapor pressure\n",
    "ds_vpd = xarray.open_mfdataset(r'~\\vpd_*.nc')\n",
    "ds_vpd = ds_vpd.sel( day=slice('2008-01-01', '2022-12-31'))\n",
    "ds_vpd"
   ]
  },
  {
   "cell_type": "code",
   "execution_count": null,
   "id": "da2d18b3",
   "metadata": {},
   "outputs": [],
   "source": [
    "# Create an empty DataFrame to store the combined Vapor data\n",
    "combined_mean_vapor_pressure_deficit_data = pd.DataFrame()\n",
    "\n",
    "# Loop through locations and extract Vapor values\n",
    "for index, row in locations_df.iterrows():\n",
    "    us_lat = row['lat']\n",
    "    us_lon = row['lon']\n",
    "    us_code = row['station_id']\n",
    "    \n",
    "    # Extract Vapor data for the current location\n",
    "    dd = ds_vpd.sel(lat=us_lat, lon=us_lon, method=\"nearest\").to_dataframe()\n",
    "    x = dd.groupby('day').mean()\n",
    "    \n",
    "    # Add the location ID to the Vapor data\n",
    "    x['station_id'] = us_code\n",
    "    \n",
    "    # Append the temperature data for the current location to the combined DataFrame\n",
    "    combined_mean_vapor_pressure_deficit_data = combined_mean_vapor_pressure_deficit_data.append(x)\n",
    "\n",
    "# Save the combined temperature data to a single CSV file\n",
    "output_file = r\"~\\combined_mean_vapor_pressure_deficit_data.csv\"\n",
    "combined_mean_vapor_pressure_deficit_data.to_csv(output_file, index=True)"
   ]
  },
  {
   "cell_type": "code",
   "execution_count": null,
   "id": "6fbd78e5",
   "metadata": {},
   "outputs": [],
   "source": [
    "## Wind speed\n",
    "ds_vs = xarray.open_mfdataset(r'~\\vs_*.nc')\n",
    "ds_vs = ds_vs.sel( day=slice('2008-01-01', '2022-12-31'))\n",
    "ds_vs"
   ]
  },
  {
   "cell_type": "code",
   "execution_count": null,
   "id": "2b58c829",
   "metadata": {},
   "outputs": [],
   "source": [
    "# Create an empty DataFrame to store the combined Wind data\n",
    "combined_vs_data = pd.DataFrame()\n",
    "\n",
    "# Loop through locations and extract Wind values\n",
    "for index, row in locations_df.iterrows():\n",
    "    us_lat = row['lat']\n",
    "    us_lon = row['lon']\n",
    "    us_code = row['station_id']\n",
    "    \n",
    "    # Extract Wind data for the current location\n",
    "    dd = ds_vs.sel(lat=us_lat, lon=us_lon, method=\"nearest\").to_dataframe()\n",
    "    x = dd.groupby('day').mean()\n",
    "    \n",
    "    # Add the location ID to the Wind data\n",
    "    x['station_id'] = us_code\n",
    "    \n",
    "    # Append the Wind data for the current location to the combined DataFrame\n",
    "    combined_vs_data = combined_vs_data.append(x)\n",
    "\n",
    "# Save the combined Wind data to a single CSV file\n",
    "output_file = r\"~\\combined_vs_data.csv\"\n",
    "combined_vs_data.to_csv(output_file, index=True)"
   ]
  },
  {
   "cell_type": "code",
   "execution_count": null,
   "id": "1bcae531",
   "metadata": {},
   "outputs": [],
   "source": []
  }
 ],
 "metadata": {
  "kernelspec": {
   "display_name": "Python 3 (ipykernel)",
   "language": "python",
   "name": "python3"
  },
  "language_info": {
   "codemirror_mode": {
    "name": "ipython",
    "version": 3
   },
   "file_extension": ".py",
   "mimetype": "text/x-python",
   "name": "python",
   "nbconvert_exporter": "python",
   "pygments_lexer": "ipython3",
   "version": "3.11.0"
  }
 },
 "nbformat": 4,
 "nbformat_minor": 5
}
